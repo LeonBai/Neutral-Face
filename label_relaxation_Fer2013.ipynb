{
 "cells": [
  {
   "cell_type": "markdown",
   "metadata": {
    "deletable": true,
    "editable": true
   },
   "source": [
    "## Label making for Fer2013\n",
    "\n",
    "#### The main script for making relaxed labels for FER2013 dataset\n",
    "#### Saving the relaxed labels into .npy file for later model training \n"
   ]
  },
  {
   "cell_type": "code",
   "execution_count": 1,
   "metadata": {
    "collapsed": true,
    "deletable": true,
    "editable": true
   },
   "outputs": [],
   "source": [
    "\"\"\"\n",
    "Required packages: numpy and pandas; matplotlib \n",
    "\n",
    "\"\"\"\n",
    "import numpy as np\n",
    "import pandas as pd\n"
   ]
  },
  {
   "cell_type": "code",
   "execution_count": 2,
   "metadata": {
    "collapsed": true,
    "deletable": true,
    "editable": true
   },
   "outputs": [],
   "source": [
    "\"\"\"\n",
    "Defined functions for label relaxation\n",
    "\n",
    "1. gumbel function to random sample gumbel variables \n",
    "\n",
    "2. softmax function to compute softmax (e.g., logits from [0, 1])\n",
    "\n",
    "3. gumbelmax function: do not use this function \n",
    "\n",
    "4. gumbelsoftmax function: the main function to turn one-hot labels to real-numbered forms\n",
    "        Input: one-hot labels, e.g., y_train or one-hot(y_train)\n",
    "                Number of samples: N\n",
    "        Output: N samples of relaxed labels\n",
    "\"\"\"\n",
    "\n",
    "\n",
    "\n",
    "def gumbel(*args):\n",
    "    \n",
    "    u = np.random.rand(*args)\n",
    "    return -np.log(-np.log(u))\n",
    "\n",
    "\n",
    "def softmax(x, axis=None):\n",
    "    \n",
    "    x = np.exp(x)\n",
    "    \n",
    "    return x/np.sum(x, axis=axis)\n",
    "\n",
    "def gumbelmax(logits, N=100000):\n",
    "    \n",
    "    d = len(logits)\n",
    "    \n",
    "    return np.argmax(np.log(logits.reshape(d,1)) + gumbel(d*N).reshape(d,N),axis=0)\n",
    "\n",
    "def gumbelsoftmax(logits, tau, N=100000):\n",
    "    \n",
    "    #d_1 = len(logits[0])\n",
    "    d_0 = len(logits)\n",
    "    return softmax((logits.reshape(d_0,1) + \n",
    "                    gumbel(d_0*N).reshape(d_0,N))/tau,axis=0)\n"
   ]
  },
  {
   "cell_type": "code",
   "execution_count": 3,
   "metadata": {
    "collapsed": false,
    "deletable": true,
    "editable": true
   },
   "outputs": [
    {
     "name": "stderr",
     "output_type": "stream",
     "text": [
      "Using TensorFlow backend.\n"
     ]
    }
   ],
   "source": [
    "import data_utils"
   ]
  },
  {
   "cell_type": "code",
   "execution_count": 4,
   "metadata": {
    "collapsed": true,
    "deletable": true,
    "editable": true
   },
   "outputs": [],
   "source": [
    "## Loading Fer2013 dataset from preprocessing data script, i.e., data_utils.py\n",
    "\n",
    "X_train, y_train, X_test, y_test = data_utils.load_data()"
   ]
  },
  {
   "cell_type": "code",
   "execution_count": 5,
   "metadata": {
    "collapsed": false,
    "deletable": true,
    "editable": true
   },
   "outputs": [],
   "source": [
    "from keras.utils import to_categorical\n",
    "\n",
    "X_train = np.asarray(X_train)\n",
    "y_train = np.asarray(y_train)\n",
    "X_test  = np.asarray(X_test)\n",
    "y_test  = np.asarray(y_test)\n",
    "\n",
    "## one-hot encoded all the labels for training and testing in y\n",
    "import keras.backend as K\n",
    "\n",
    "y_train = to_categorical(y_train)\n",
    "y_test  = to_categorical(y_test)"
   ]
  },
  {
   "cell_type": "code",
   "execution_count": 7,
   "metadata": {
    "collapsed": false,
    "deletable": true,
    "editable": true
   },
   "outputs": [
    {
     "name": "stdout",
     "output_type": "stream",
     "text": [
      "(32181, 7)\n"
     ]
    }
   ],
   "source": [
    "print y_train.shape"
   ]
  },
  {
   "cell_type": "code",
   "execution_count": 10,
   "metadata": {
    "collapsed": false,
    "deletable": true,
    "editable": true
   },
   "outputs": [
    {
     "name": "stdout",
     "output_type": "stream",
     "text": [
      "CPU times: user 3 µs, sys: 1e+03 ns, total: 4 µs\n",
      "Wall time: 16 µs\n"
     ]
    }
   ],
   "source": [
    "%time\n",
    "tem = [] #creating a holder\n",
    "for i in range(0,32181): # iterate through all labels(32181 labels in y_train and y_test)\n",
    "    tem_arr = gumbelsoftmax(y_train[i]*6, tau = 3.5).mean(axis = 1) #take N samples, then average over N \n",
    "    #tem_arr_new = np.expand_dims(tem_arr, axis = 0)\n",
    "    tem = np.concatenate([tem, tem_arr], axis = 0)\n",
    "    "
   ]
  },
  {
   "cell_type": "code",
   "execution_count": 9,
   "metadata": {
    "collapsed": false,
    "deletable": true,
    "editable": true
   },
   "outputs": [],
   "source": [
    "#np.save('gc_y_train(tau = 3.5)',tem ) ## save this relaxed labels into .npy format file "
   ]
  },
  {
   "cell_type": "code",
   "execution_count": null,
   "metadata": {
    "collapsed": true,
    "deletable": true,
    "editable": true
   },
   "outputs": [],
   "source": []
  }
 ],
 "metadata": {
  "kernelspec": {
   "display_name": "Python 2",
   "language": "python",
   "name": "python2"
  },
  "language_info": {
   "codemirror_mode": {
    "name": "ipython",
    "version": 2
   },
   "file_extension": ".py",
   "mimetype": "text/x-python",
   "name": "python",
   "nbconvert_exporter": "python",
   "pygments_lexer": "ipython2",
   "version": "2.7.14"
  }
 },
 "nbformat": 4,
 "nbformat_minor": 2
}
