{
 "cells": [
  {
   "cell_type": "markdown",
   "metadata": {
    "deletable": true,
    "editable": true
   },
   "source": [
    "### Similarity Index \n",
    "\n",
    "1. deblur the generated images[done]\n",
    "\n",
    "2. compute the simlarity index with cosine similarity [done]\n",
    "\n",
    "3. convert cosine similarity to pseudo arousal index [done]\n",
    "\n",
    "4. convert this pseudo arouasl index to tau value for label relaxtion [done]\n",
    "\n",
    "5. making the label relaxtion dataset, i.e., y_label_relaxed [done]\n",
    "\n",
    "6. Making the criterion for relaxation and emotion-focal loss [ongoing]\n",
    "    \n"
   ]
  },
  {
   "cell_type": "code",
   "execution_count": 1,
   "metadata": {
    "collapsed": true,
    "deletable": true,
    "editable": true
   },
   "outputs": [],
   "source": [
    "### loading the dataset and generated face\n",
    "\n",
    "import numpy as np\n",
    "\n",
    "X_train = np.load('X_train_Fer2013.npy')\n",
    "y_train = np.load('y_train_Fer2013.npy')\n",
    "\n",
    "X_gen = np.load('evae_conditional_fer2013_sample_neutral_sample_neutral_a=0_v1.npy')"
   ]
  },
  {
   "cell_type": "code",
   "execution_count": 3,
   "metadata": {
    "collapsed": false,
    "deletable": true,
    "editable": true
   },
   "outputs": [
    {
     "name": "stdout",
     "output_type": "stream",
     "text": [
      "(32298, 48, 48, 1)\n"
     ]
    }
   ],
   "source": [
    "print X_gen.shape"
   ]
  },
  {
   "cell_type": "code",
   "execution_count": 4,
   "metadata": {
    "collapsed": false,
    "deletable": true,
    "editable": true
   },
   "outputs": [
    {
     "data": {
      "text/plain": [
       "<matplotlib.image.AxesImage at 0x13c789a50>"
      ]
     },
     "execution_count": 4,
     "metadata": {},
     "output_type": "execute_result"
    },
    {
     "data": {
      "image/png": "[encoded data removed]",
      "text/plain": [
       "<Figure size 432x288 with 1 Axes>"
      ]
     },
     "metadata": {},
     "output_type": "display_data"
    }
   ],
   "source": [
    "%matplotlib inline\n",
    "import matplotlib.pyplot as plt\n",
    "\n",
    "plt.imshow((X_gen[14]).reshape((48,48)), cmap ='gray')"
   ]
  },
  {
   "cell_type": "code",
   "execution_count": 5,
   "metadata": {
    "collapsed": true,
    "deletable": true,
    "editable": true
   },
   "outputs": [],
   "source": [
    "### CV deblur helps \n",
    "\n",
    "import cv2\n",
    "\n",
    "trans_img_dataset = cv2.pow(X_gen, 2.9)"
   ]
  },
  {
   "cell_type": "code",
   "execution_count": 6,
   "metadata": {
    "collapsed": false,
    "deletable": true,
    "editable": true
   },
   "outputs": [
    {
     "name": "stdout",
     "output_type": "stream",
     "text": [
      "(32298, 48, 48, 1)\n"
     ]
    }
   ],
   "source": [
    "print trans_img_dataset.shape"
   ]
  },
  {
   "cell_type": "code",
   "execution_count": 7,
   "metadata": {
    "collapsed": false,
    "deletable": true,
    "editable": true
   },
   "outputs": [
    {
     "data": {
      "text/plain": [
       "<matplotlib.image.AxesImage at 0x157bdb750>"
      ]
     },
     "execution_count": 7,
     "metadata": {},
     "output_type": "execute_result"
    },
    {
     "data": {
      "image/png": "[encoded data removed]",
      "text/plain": [
       "<Figure size 432x288 with 1 Axes>"
      ]
     },
     "metadata": {},
     "output_type": "display_data"
    }
   ],
   "source": [
    "\n",
    "plt.imshow(trans_img_dataset[2].reshape((48,48)),cmap='gray')"
   ]
  },
  {
   "cell_type": "code",
   "execution_count": 53,
   "metadata": {
    "collapsed": false,
    "deletable": true,
    "editable": true
   },
   "outputs": [
    {
     "data": {
      "text/plain": [
       "<matplotlib.image.AxesImage at 0x1590fb950>"
      ]
     },
     "execution_count": 53,
     "metadata": {},
     "output_type": "execute_result"
    },
    {
     "data": {
      "image/png": "[encoded data removed]",
      "text/plain": [
       "<Figure size 432x288 with 1 Axes>"
      ]
     },
     "metadata": {},
     "output_type": "display_data"
    }
   ],
   "source": [
    "plt.imshow(X_train[3].reshape((48,48)), cmap ='gray')"
   ]
  },
  {
   "cell_type": "code",
   "execution_count": 9,
   "metadata": {
    "collapsed": false,
    "deletable": true,
    "editable": true
   },
   "outputs": [
    {
     "name": "stdout",
     "output_type": "stream",
     "text": [
      "[0 0 2 4 6 2 4 3 3 2 0 6 6 6 3 5 3 2 6 4]\n"
     ]
    }
   ],
   "source": [
    "print y_train[:20]"
   ]
  },
  {
   "cell_type": "code",
   "execution_count": 10,
   "metadata": {
    "collapsed": false,
    "deletable": true,
    "editable": true
   },
   "outputs": [
    {
     "name": "stdout",
     "output_type": "stream",
     "text": [
      "(32298, 2304)\n",
      "(32298, 2304)\n"
     ]
    }
   ],
   "source": [
    "X_gen_   = trans_img_dataset.reshape((trans_img_dataset.shape[0], -1))\n",
    "X_train_ = X_train.reshape((X_train.shape[0], -1))\n",
    "\n",
    "print X_gen_.shape\n",
    "print X_train_.shape"
   ]
  },
  {
   "cell_type": "code",
   "execution_count": 10,
   "metadata": {
    "collapsed": false,
    "deletable": true,
    "editable": true
   },
   "outputs": [
    {
     "name": "stdout",
     "output_type": "stream",
     "text": [
      "(32298, 2304)\n"
     ]
    }
   ],
   "source": [
    "X_sub_1 = np.subtract(X_train_, X_gen_)\n",
    "\n",
    "print X_sub_1.shape"
   ]
  },
  {
   "cell_type": "code",
   "execution_count": 135,
   "metadata": {
    "collapsed": true,
    "deletable": true,
    "editable": true
   },
   "outputs": [],
   "source": [
    "#np.save('X_train_substract_1',X_sub_1)"
   ]
  },
  {
   "cell_type": "code",
   "execution_count": null,
   "metadata": {
    "collapsed": true,
    "deletable": true,
    "editable": true
   },
   "outputs": [],
   "source": []
  },
  {
   "cell_type": "code",
   "execution_count": 134,
   "metadata": {
    "collapsed": false,
    "deletable": true,
    "editable": true
   },
   "outputs": [
    {
     "data": {
      "text/plain": [
       "<matplotlib.image.AxesImage at 0x1732b2a50>"
      ]
     },
     "execution_count": 134,
     "metadata": {},
     "output_type": "execute_result"
    },
    {
     "data": {
      "image/png": "[encoded data removed]",
      "text/plain": [
       "<Figure size 432x288 with 1 Axes>"
      ]
     },
     "metadata": {},
     "output_type": "display_data"
    }
   ],
   "source": [
    "plt.imshow(X_sub_1[2].reshape((48,48)), cmap= 'gray')"
   ]
  },
  {
   "cell_type": "code",
   "execution_count": 11,
   "metadata": {
    "collapsed": true
   },
   "outputs": [],
   "source": [
    "from scipy import spatial \n",
    "\n",
    "X_gen_   = trans_img_dataset.reshape((trans_img_dataset.shape[0], -1))\n",
    "X_train_ = X_train.reshape((X_train.shape[0], -1))\n",
    "\n",
    "#from sklearn.metrics import pairwise"
   ]
  },
  {
   "cell_type": "code",
   "execution_count": 31,
   "metadata": {
    "collapsed": false
   },
   "outputs": [],
   "source": [
    "tem = []\n",
    "for i in range(0, 32298):\n",
    "    #alpha = \n",
    "    cos_dis =  spatial.distance.cosine(X_train_[i].astype('float32'), ## lower close to neutral \n",
    "                                        X_gen_[i].astype('float32'))\n",
    "    if np.isnan(cos_dis) == True:\n",
    "        tem.append(0.1)\n",
    "    else:\n",
    "        tem.append(cos_dis)\n",
    "\n",
    "    "
   ]
  },
  {
   "cell_type": "code",
   "execution_count": 35,
   "metadata": {
    "collapsed": false
   },
   "outputs": [
    {
     "name": "stdout",
     "output_type": "stream",
     "text": [
      "0.108587651095\n",
      "0.0616461680212\n"
     ]
    }
   ],
   "source": [
    "import numpy as np\n",
    "a = np.asarray(tem)\n",
    "#a[10]\n",
    "a_avg = np.average(a)\n",
    "a_std = np.std(a)\n",
    "\n",
    "print a_avg\n",
    "print a_std"
   ]
  },
  {
   "cell_type": "code",
   "execution_count": 62,
   "metadata": {
    "collapsed": false
   },
   "outputs": [
    {
     "name": "stdout",
     "output_type": "stream",
     "text": [
      "[ 0.07677597  0.18157208  0.10413402  0.10828418  0.14771414]\n"
     ]
    }
   ],
   "source": [
    "print a[15:20]"
   ]
  },
  {
   "cell_type": "code",
   "execution_count": 63,
   "metadata": {
    "collapsed": false
   },
   "outputs": [
    {
     "name": "stdout",
     "output_type": "stream",
     "text": [
      "[5 3 2 6 4]\n"
     ]
    }
   ],
   "source": [
    "print y_train[15:20]"
   ]
  },
  {
   "cell_type": "code",
   "execution_count": 64,
   "metadata": {
    "collapsed": false
   },
   "outputs": [
    {
     "data": {
      "text/plain": [
       "0.9031367301940918"
      ]
     },
     "execution_count": 64,
     "metadata": {},
     "output_type": "execute_result"
    }
   ],
   "source": [
    "a.max()"
   ]
  },
  {
   "cell_type": "code",
   "execution_count": 40,
   "metadata": {
    "collapsed": false
   },
   "outputs": [
    {
     "name": "stdout",
     "output_type": "stream",
     "text": [
      "0.0469414830741\n",
      "0.170233819116\n"
     ]
    }
   ],
   "source": [
    "print a_avg - a_std\n",
    "print a_avg + a_std"
   ]
  },
  {
   "cell_type": "code",
   "execution_count": 45,
   "metadata": {
    "collapsed": false
   },
   "outputs": [
    {
     "data": {
      "text/plain": [
       "0.10830056667327881"
      ]
     },
     "execution_count": 45,
     "metadata": {},
     "output_type": "execute_result"
    }
   ],
   "source": [
    "np."
   ]
  },
  {
   "cell_type": "code",
   "execution_count": 44,
   "metadata": {
    "collapsed": false
   },
   "outputs": [
    {
     "data": {
      "text/plain": [
       "6"
      ]
     },
     "execution_count": 44,
     "metadata": {},
     "output_type": "execute_result"
    }
   ],
   "source": [
    "y_train[11]"
   ]
  },
  {
   "cell_type": "code",
   "execution_count": 57,
   "metadata": {
    "collapsed": false
   },
   "outputs": [],
   "source": [
    "from keras.utils import to_categorical\n",
    "y_train_ = to_categorical(y_train)\n",
    "y_train_arousal = np.column_stack((y_train_, a))"
   ]
  },
  {
   "cell_type": "code",
   "execution_count": 65,
   "metadata": {
    "collapsed": false
   },
   "outputs": [],
   "source": [
    "#np.save('pseudo_arousal', a)\n"
   ]
  },
  {
   "cell_type": "code",
   "execution_count": 27,
   "metadata": {
    "collapsed": false,
    "deletable": true,
    "editable": true
   },
   "outputs": [],
   "source": [
    "\n",
    "from scipy import spatial\n",
    "\n",
    "\n",
    "X_gen_   = trans_img_dataset.reshape((trans_img_dataset.shape[0], -1))\n",
    "X_train_ = X_train.reshape((X_train.shape[0], -1))\n",
    "\n",
    "from sklearn.metrics import pairwise\n",
    "\n",
    "#cos_matrix = pairwise.cosine_similarity(X_train_, X_gen_)\n",
    "# to get the cosine distance between two dataset\n",
    "tem = []\n",
    "\n",
    "for i in range(0, 32298):\n",
    "    #alpha = \n",
    "    cos_dis =  (1/spatial.distance.cosine(X_train_[i].astype('float32'), \n",
    "                                          X_gen_[i].astype('float32')))/10.\n",
    "    if np.isnan(cos_dis) == True:\n",
    "        tem.append(0.1)\n",
    "    elif cos_dis >= 3:\n",
    "        tem.append(3)     \n",
    "    else:    \n",
    "        tem.append(cos_dis)\n",
    "    #tau_index = (1/cos_sim)/3\n",
    "    #tem.append(cos_dis)\n",
    "\n"
   ]
  },
  {
   "cell_type": "code",
   "execution_count": 28,
   "metadata": {
    "collapsed": false,
    "deletable": true,
    "editable": true
   },
   "outputs": [
    {
     "name": "stdout",
     "output_type": "stream",
     "text": [
      "[1.19562349 0.52493088 2.87966496 0.71960005 1.3024909  0.55074547\n",
      " 0.96030094 0.92349597 0.67698327]\n",
      "[6 6 6 3 5 3 2 6 4]\n",
      "3.0\n",
      "0.1\n"
     ]
    }
   ],
   "source": [
    "arousal_index = np.asarray(tem)\n",
    "\n",
    "print arousal_index[11:20]\n",
    "print y_train[11:20]\n",
    "print arousal_index.max()\n",
    "print arousal_index.min()"
   ]
  },
  {
   "cell_type": "code",
   "execution_count": 29,
   "metadata": {
    "collapsed": false,
    "deletable": true,
    "editable": true
   },
   "outputs": [],
   "source": [
    "\n",
    "def gumbel(*args):\n",
    "    \n",
    "    u = np.random.rand(*args)\n",
    "    return -np.log(-np.log(u))\n",
    "\n",
    "def softmax(x, axis=None):\n",
    "    \n",
    "    x = np.exp(x)\n",
    "    return x/np.sum(x, axis=axis)\n",
    "\n",
    "def gumbelsoftmax(logits, tau, N=10000):\n",
    "    \n",
    "    #d_1 = len(logits[0])\n",
    "    d_0 = len(logits)\n",
    "    return softmax((logits.reshape(d_0,1) + \n",
    "                    gumbel(d_0*N).reshape(d_0,N))/tau,axis=0)\n"
   ]
  },
  {
   "cell_type": "code",
   "execution_count": 30,
   "metadata": {
    "collapsed": false,
    "deletable": true,
    "editable": true
   },
   "outputs": [],
   "source": [
    "from keras import utils\n",
    "\n",
    "y_train_one = utils.to_categorical(y_train)"
   ]
  },
  {
   "cell_type": "code",
   "execution_count": 31,
   "metadata": {
    "collapsed": false,
    "deletable": true,
    "editable": true
   },
   "outputs": [],
   "source": [
    "tem = [] #creating a holder\n",
    "tau = arousal_index\n",
    "for i in range(0, 32298): # iterate through all labels(32181 labels in y_train and y_test)\n",
    "    tem_arr = gumbelsoftmax(y_train_one[i]*6, tau = arousal_index[i]).mean(axis = 1) #take N samples, then average over N \n",
    "    #tem_arr_new = np.expand_dims(tem_arr, axis = 0)\n",
    "    tem = np.append(tem, tem_arr)"
   ]
  },
  {
   "cell_type": "code",
   "execution_count": 32,
   "metadata": {
    "collapsed": false,
    "deletable": true,
    "editable": true
   },
   "outputs": [],
   "source": [
    "tem_1 = tem.reshape((32298,7))"
   ]
  },
  {
   "cell_type": "code",
   "execution_count": 35,
   "metadata": {
    "collapsed": false,
    "deletable": true,
    "editable": true
   },
   "outputs": [],
   "source": [
    "#np.save('proactive_label_fer2013_v7_divide12_bound3.0*6', tem_1)"
   ]
  },
  {
   "cell_type": "code",
   "execution_count": 33,
   "metadata": {
    "collapsed": false,
    "deletable": true,
    "editable": true
   },
   "outputs": [
    {
     "data": {
      "text/plain": [
       "array([[0.01711471, 0.0173408 , 0.01684827, 0.01699625, 0.01706609,\n",
       "        0.01712724, 0.89750664],\n",
       "       [0.00365404, 0.00395003, 0.00403673, 0.00393268, 0.00331311,\n",
       "        0.0040791 , 0.97703432],\n",
       "       [0.07565505, 0.07529923, 0.07479619, 0.07548035, 0.07546192,\n",
       "        0.07511861, 0.54818866],\n",
       "       [0.00670218, 0.00531131, 0.0059599 , 0.96394802, 0.00668828,\n",
       "        0.00624529, 0.00514502],\n",
       "       [0.02056025, 0.020311  , 0.02117048, 0.02109734, 0.02070722,\n",
       "        0.87530067, 0.02085305],\n",
       "       [0.00455788, 0.00427624, 0.00347659, 0.9757967 , 0.00401803,\n",
       "        0.00364711, 0.00422745],\n",
       "       [0.00984475, 0.01047101, 0.93972577, 0.01009142, 0.01011502,\n",
       "        0.00989561, 0.00985642],\n",
       "       [0.01000034, 0.01020947, 0.00951146, 0.00971479, 0.00974413,\n",
       "        0.00974418, 0.94107564],\n",
       "       [0.00479245, 0.00545444, 0.00463943, 0.00618198, 0.96703845,\n",
       "        0.00605535, 0.0058379 ]])"
      ]
     },
     "execution_count": 33,
     "metadata": {},
     "output_type": "execute_result"
    }
   ],
   "source": [
    "tem_1[11:20]"
   ]
  },
  {
   "cell_type": "code",
   "execution_count": 34,
   "metadata": {
    "collapsed": false,
    "deletable": true,
    "editable": true
   },
   "outputs": [
    {
     "name": "stdout",
     "output_type": "stream",
     "text": [
      "(32298, 7)\n"
     ]
    }
   ],
   "source": [
    "print tem_1.shape"
   ]
  },
  {
   "cell_type": "code",
   "execution_count": 19,
   "metadata": {
    "collapsed": false,
    "deletable": true,
    "editable": true
   },
   "outputs": [
    {
     "data": {
      "text/plain": [
       "0"
      ]
     },
     "execution_count": 19,
     "metadata": {},
     "output_type": "execute_result"
    }
   ],
   "source": [
    "y_train[1]"
   ]
  },
  {
   "cell_type": "code",
   "execution_count": 15,
   "metadata": {
    "collapsed": true,
    "deletable": true,
    "editable": true
   },
   "outputs": [],
   "source": [
    "from keras import utils\n",
    "\n",
    "#label_smooth = utils."
   ]
  },
  {
   "cell_type": "code",
   "execution_count": null,
   "metadata": {
    "collapsed": true,
    "deletable": true,
    "editable": true
   },
   "outputs": [],
   "source": []
  },
  {
   "cell_type": "code",
   "execution_count": null,
   "metadata": {
    "collapsed": true,
    "deletable": true,
    "editable": true
   },
   "outputs": [],
   "source": []
  },
  {
   "cell_type": "code",
   "execution_count": 53,
   "metadata": {
    "collapsed": false,
    "deletable": true,
    "editable": true
   },
   "outputs": [
    {
     "name": "stdout",
     "output_type": "stream",
     "text": [
      "18.6355947829\n"
     ]
    }
   ],
   "source": [
    "test = 1/spatial.distance.cosine(X_train_[2].astype('float32'), X_gen_[2].astype('float32'))\n",
    "print test"
   ]
  },
  {
   "cell_type": "code",
   "execution_count": 201,
   "metadata": {
    "collapsed": false,
    "deletable": true,
    "editable": true
   },
   "outputs": [
    {
     "data": {
      "text/plain": [
       "2.0833333333333335"
      ]
     },
     "execution_count": 201,
     "metadata": {},
     "output_type": "execute_result"
    }
   ],
   "source": [
    "(1/0.24)/2\n"
   ]
  },
  {
   "cell_type": "code",
   "execution_count": 136,
   "metadata": {
    "collapsed": false,
    "deletable": true,
    "editable": true
   },
   "outputs": [
    {
     "name": "stdout",
     "output_type": "stream",
     "text": [
      "0.309122809914\n"
     ]
    }
   ],
   "source": [
    "from skimage.measure import compare_ssim as ssim\n",
    "X_gen_   = trans_img.flatten()\n",
    "ssim_ = ssim(X_train_[4].astype('float32'), X_gen_)\n",
    "\n",
    "print ssim_"
   ]
  },
  {
   "cell_type": "code",
   "execution_count": 144,
   "metadata": {
    "collapsed": false,
    "deletable": true,
    "editable": true
   },
   "outputs": [
    {
     "data": {
      "text/plain": [
       "6"
      ]
     },
     "execution_count": 144,
     "metadata": {},
     "output_type": "execute_result"
    }
   ],
   "source": [
    "y_train[13]"
   ]
  },
  {
   "cell_type": "code",
   "execution_count": 5,
   "metadata": {
    "collapsed": false,
    "deletable": true,
    "editable": true
   },
   "outputs": [],
   "source": [
    "import numpy as np\n",
    "from skimage import color, data, restoration\n",
    "from skimage.restoration import (denoise_tv_chambolle, denoise_bilateral,\n",
    "                                 denoise_wavelet, estimate_sigma)\n",
    "from skimage.restoration import denoise_nl_means, estimate_sigma\n",
    "from skimage.restoration import denoise_wavelet\n",
    "\n",
    "psf = np.ones((5,5)) / 25.\n",
    "from scipy import ndimage\n",
    "from scipy.signal import convolve2d\n",
    "\n",
    "denoise_kwargs = dict(multichannel=False, convert2ycbcr=False, wavelet='db1')\n",
    "\n",
    "img = X_gen[14].reshape((48,48))\n",
    "#im_bayescs = cycle_spin(noisy, func=denoise_wavelet, max_shifts=5,\n",
    "                            #func_kw=denoise_kwargs, multichannel=True)\n",
    "\n",
    "#sigma_est = np.mean(estimate_sigma(img, multichannel=True))\n",
    "#patch_kw = dict(patch_size=3,      # 5x5 patches\n",
    "               # patch_distance=6,  # 13x13 search area\n",
    "                # multichannel=False)\n",
    "\n",
    "\n",
    "#sigma_est = np.mean(estimate_sigma(img, multichannel=False))\n",
    "#img = convolve2d(img, psf, 'same')\n",
    "#img += 0.1 * img.std() * np.random.standard_normal(img.shape)\n",
    "\n",
    "#denoise_fast = denoise_nl_means(img, h=0.8 * sigma_est, fast_mode=True,\n",
    "                                #**patch_kw)\n",
    "#deconvolved_imgs = restoration.wiener(img, psf, 10, clip=False)\n",
    "#denoise_img = denoise_wavelet(img,convert2ycbcr=True,\n",
    "                #multichannel = False)\n",
    "#gauss_denoised = ndimage.median_filter(X_gen[14], 2)\n",
    "\n",
    "#denoise_img_2 = denoise_bilateral(img, sigma_color=0.05, sigma_spatial=50,\n",
    "                #multichannel=False)\n",
    "\n",
    "#denoise_img_3 = denoise_tv_chambolle(img, weight=0.0001, multichannel=False)\n",
    "\n"
   ]
  },
  {
   "cell_type": "code",
   "execution_count": 2,
   "metadata": {
    "collapsed": true,
    "deletable": true,
    "editable": true
   },
   "outputs": [],
   "source": [
    "import numpy as np\n",
    "import scipy.stats as st\n",
    "\n",
    "def gkern(kernlen=21, nsig=3):\n",
    "    \"\"\"Returns a 2D Gaussian kernel array.\"\"\"\n",
    "\n",
    "    interval = (2*nsig+1.)/(kernlen)\n",
    "    x = np.linspace(-nsig-interval/2., nsig+interval/2., kernlen+1)\n",
    "    kern1d = np.diff(st.norm.cdf(x))\n",
    "    kernel_raw = np.sqrt(np.outer(kern1d, kern1d))\n",
    "    kernel = kernel_raw/kernel_raw.sum()\n",
    "    return kernel\n",
    "\n",
    "def disk_kernel(radius):\n",
    "    \n",
    "    kern = np.zeros((2*radius+1, 2*radius+1))\n",
    "    y, x = np.ogrid[-radius:radius+1, -radius:radius+1]\n",
    "    mask = x**2 + y**2 <= radius**2\n",
    "    kern[mask] = 1\n",
    "    return kern"
   ]
  },
  {
   "cell_type": "code",
   "execution_count": null,
   "metadata": {
    "collapsed": true,
    "deletable": true,
    "editable": true
   },
   "outputs": [],
   "source": []
  },
  {
   "cell_type": "code",
   "execution_count": 91,
   "metadata": {
    "collapsed": false,
    "deletable": true,
    "editable": true
   },
   "outputs": [],
   "source": [
    "import skimage\n",
    "\n",
    "psf_gau = gkern(5,12)\n",
    "psf_dis = disk_kernel(2)\n",
    "deconv_img_1 = restoration.richardson_lucy(img, psf_gau, iterations=100)\n",
    "deconv_img_2 = restoration.wiener(img, psf_gau, 0.05, clip= False)\n",
    "#deconv_img_3 = skimage.filters.median(img, selem = circle)"
   ]
  },
  {
   "cell_type": "code",
   "execution_count": 92,
   "metadata": {
    "collapsed": false,
    "deletable": true,
    "editable": true
   },
   "outputs": [
    {
     "data": {
      "text/plain": [
       "<matplotlib.image.AxesImage at 0x14a6b8490>"
      ]
     },
     "execution_count": 92,
     "metadata": {},
     "output_type": "execute_result"
    },
    {
     "data": {
      "image/png": "[encoded data removed]",
      "text/plain": [
       "<Figure size 432x288 with 1 Axes>"
      ]
     },
     "metadata": {},
     "output_type": "display_data"
    }
   ],
   "source": [
    "plt.imshow(deconv_img_1.reshape((48,48)),cmap='gray')"
   ]
  },
  {
   "cell_type": "code",
   "execution_count": null,
   "metadata": {
    "collapsed": true,
    "deletable": true,
    "editable": true
   },
   "outputs": [],
   "source": []
  }
 ],
 "metadata": {
  "kernelspec": {
   "display_name": "Python 2",
   "language": "python",
   "name": "python2"
  },
  "language_info": {
   "codemirror_mode": {
    "name": "ipython",
    "version": 2
   },
   "file_extension": ".py",
   "mimetype": "text/x-python",
   "name": "python",
   "nbconvert_exporter": "python",
   "pygments_lexer": "ipython2",
   "version": "2.7.14"
  }
 },
 "nbformat": 4,
 "nbformat_minor": 2
}
